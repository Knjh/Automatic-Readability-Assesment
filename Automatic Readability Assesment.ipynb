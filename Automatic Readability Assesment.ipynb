{
 "cells": [
  {
   "cell_type": "code",
   "execution_count": 1,
   "id": "da65a0d3",
   "metadata": {},
   "outputs": [],
   "source": [
    "import pandas as pd\n",
    "import numpy as np"
   ]
  },
  {
   "cell_type": "code",
   "execution_count": 2,
   "id": "4e1e2f65",
   "metadata": {},
   "outputs": [],
   "source": [
    "df = pd.read_csv('merged_dataset.csv')"
   ]
  },
  {
   "cell_type": "code",
   "execution_count": 3,
   "id": "21cdc275",
   "metadata": {},
   "outputs": [],
   "source": [
    "df = df.rename(columns = {'class': 'class_name'})\n",
    "df = df.rename(columns=lambda x: x.strip() if isinstance(x, str) else x)\n",
    "df = df.drop(columns = ['class'], axis = 1)"
   ]
  },
  {
   "cell_type": "code",
   "execution_count": null,
   "id": "67e1b554",
   "metadata": {},
   "outputs": [],
   "source": []
  },
  {
   "cell_type": "code",
   "execution_count": 4,
   "id": "0ae53b25",
   "metadata": {},
   "outputs": [
    {
     "data": {
      "text/html": [
       "<div>\n",
       "<style scoped>\n",
       "    .dataframe tbody tr th:only-of-type {\n",
       "        vertical-align: middle;\n",
       "    }\n",
       "\n",
       "    .dataframe tbody tr th {\n",
       "        vertical-align: top;\n",
       "    }\n",
       "\n",
       "    .dataframe thead th {\n",
       "        text-align: right;\n",
       "    }\n",
       "</style>\n",
       "<table border=\"1\" class=\"dataframe\">\n",
       "  <thead>\n",
       "    <tr style=\"text-align: right;\">\n",
       "      <th></th>\n",
       "      <th>index</th>\n",
       "      <th>sentence</th>\n",
       "      <th>subject</th>\n",
       "      <th>class_name</th>\n",
       "      <th>Unnamed: 0</th>\n",
       "    </tr>\n",
       "  </thead>\n",
       "  <tbody>\n",
       "    <tr>\n",
       "      <th>29968</th>\n",
       "      <td>1464</td>\n",
       "      <td>First, MNCs can provide money for additional i...</td>\n",
       "      <td>sst</td>\n",
       "      <td>10.0</td>\n",
       "      <td>NaN</td>\n",
       "    </tr>\n",
       "    <tr>\n",
       "      <th>7258</th>\n",
       "      <td>772</td>\n",
       "      <td>Make sure that the peel is perfectly flat on t...</td>\n",
       "      <td>science</td>\n",
       "      <td>9.0</td>\n",
       "      <td>NaN</td>\n",
       "    </tr>\n",
       "    <tr>\n",
       "      <th>13048</th>\n",
       "      <td>1698</td>\n",
       "      <td>For long, villagers had been suffering from i...</td>\n",
       "      <td>sst</td>\n",
       "      <td>9.0</td>\n",
       "      <td>NaN</td>\n",
       "    </tr>\n",
       "    <tr>\n",
       "      <th>26684</th>\n",
       "      <td>873</td>\n",
       "      <td>The above discussion indicate that both RNA an...</td>\n",
       "      <td>bio</td>\n",
       "      <td>12.0</td>\n",
       "      <td>NaN</td>\n",
       "    </tr>\n",
       "    <tr>\n",
       "      <th>22495</th>\n",
       "      <td>175</td>\n",
       "      <td>As of now, the last theory seems the most plau...</td>\n",
       "      <td>history</td>\n",
       "      <td>12.0</td>\n",
       "      <td>NaN</td>\n",
       "    </tr>\n",
       "  </tbody>\n",
       "</table>\n",
       "</div>"
      ],
      "text/plain": [
       "       index                                           sentence  subject  \\\n",
       "29968   1464  First, MNCs can provide money for additional i...      sst   \n",
       "7258     772  Make sure that the peel is perfectly flat on t...  science   \n",
       "13048   1698   For long, villagers had been suffering from i...      sst   \n",
       "26684    873  The above discussion indicate that both RNA an...      bio   \n",
       "22495    175  As of now, the last theory seems the most plau...  history   \n",
       "\n",
       "       class_name  Unnamed: 0  \n",
       "29968        10.0         NaN  \n",
       "7258          9.0         NaN  \n",
       "13048         9.0         NaN  \n",
       "26684        12.0         NaN  \n",
       "22495        12.0         NaN  "
      ]
     },
     "execution_count": 4,
     "metadata": {},
     "output_type": "execute_result"
    }
   ],
   "source": [
    "df.sample(5)"
   ]
  },
  {
   "cell_type": "code",
   "execution_count": 5,
   "id": "a1075edf",
   "metadata": {},
   "outputs": [],
   "source": [
    "df.drop(columns=['Unnamed: 0'],inplace = True)"
   ]
  },
  {
   "cell_type": "code",
   "execution_count": 7,
   "id": "5114e649",
   "metadata": {},
   "outputs": [
    {
     "data": {
      "text/plain": [
       "array([nan,  7.,  8.,  6.,  9., 10., 11., 12.])"
      ]
     },
     "execution_count": 7,
     "metadata": {},
     "output_type": "execute_result"
    }
   ],
   "source": [
    "df['class_name'].unique()"
   ]
  },
  {
   "cell_type": "code",
   "execution_count": 8,
   "id": "ed6b8741",
   "metadata": {},
   "outputs": [],
   "source": [
    "df = df.dropna()"
   ]
  },
  {
   "cell_type": "code",
   "execution_count": 9,
   "id": "ebd0e47b",
   "metadata": {},
   "outputs": [
    {
     "data": {
      "text/plain": [
       "array([ 7.,  8.,  6.,  9., 10., 11., 12.])"
      ]
     },
     "execution_count": 9,
     "metadata": {},
     "output_type": "execute_result"
    }
   ],
   "source": [
    "df['class_name'].unique()"
   ]
  },
  {
   "cell_type": "markdown",
   "id": "8ea9d267",
   "metadata": {},
   "source": [
    "## size of the dataset"
   ]
  },
  {
   "cell_type": "code",
   "execution_count": 10,
   "id": "2890d456",
   "metadata": {},
   "outputs": [
    {
     "name": "stdout",
     "output_type": "stream",
     "text": [
      "6 (1040, 4)\n",
      "7 (2537, 4)\n",
      "8 (2252, 4)\n",
      "9 (6575, 4)\n",
      "10 (3380, 4)\n",
      "11 (7489, 4)\n",
      "12 (6184, 4)\n"
     ]
    }
   ],
   "source": [
    "for class_num in range(6, 13):\n",
    "    df_class = df[df['class_name'] == class_num]\n",
    "    print(class_num, df_class.shape)"
   ]
  },
  {
   "cell_type": "code",
   "execution_count": 11,
   "id": "8eacd527",
   "metadata": {},
   "outputs": [
    {
     "data": {
      "text/plain": [
       "(29457, 4)"
      ]
     },
     "execution_count": 11,
     "metadata": {},
     "output_type": "execute_result"
    }
   ],
   "source": [
    "df.shape"
   ]
  },
  {
   "cell_type": "code",
   "execution_count": 12,
   "id": "a4378772",
   "metadata": {},
   "outputs": [
    {
     "data": {
      "text/plain": [
       "array(['science', 'eng', 'sst', 'HS', 'history', 'bio'], dtype=object)"
      ]
     },
     "execution_count": 12,
     "metadata": {},
     "output_type": "execute_result"
    }
   ],
   "source": [
    "df['subject'].unique()"
   ]
  },
  {
   "cell_type": "code",
   "execution_count": 13,
   "id": "0de2ba89",
   "metadata": {},
   "outputs": [],
   "source": [
    "df['subject'] = df['subject'].replace('sst', 'social_science')\n",
    "df['subject'] = df['subject'].replace('eng', 'english')\n",
    "df['subject'] = df['subject'].replace('HS', 'Home_science')\n",
    "df['subject'] = df['subject'].replace('bio', 'biology')"
   ]
  },
  {
   "cell_type": "code",
   "execution_count": null,
   "id": "c3730c30",
   "metadata": {},
   "outputs": [],
   "source": []
  },
  {
   "cell_type": "code",
   "execution_count": 14,
   "id": "6721107e",
   "metadata": {},
   "outputs": [],
   "source": [
    "import pandas as pd\n",
    "from sklearn.model_selection import train_test_split\n",
    "from sklearn.feature_extraction.text import CountVectorizer\n",
    "from sklearn.naive_bayes import MultinomialNB\n",
    "from sklearn.metrics import r2_score,mean_squared_error\n",
    "from textstat import automated_readability_index\n",
    "from sklearn.ensemble import RandomForestRegressor,GradientBoostingRegressor\n",
    "from sklearn.tree import DecisionTreeRegressor\n",
    "from sklearn.feature_extraction.text import TfidfVectorizer\n"
   ]
  },
  {
   "cell_type": "markdown",
   "id": "e8e2a154",
   "metadata": {},
   "source": [
    "## <font color='red'>TRY</font>"
   ]
  },
  {
   "cell_type": "code",
   "execution_count": null,
   "id": "11754d41",
   "metadata": {},
   "outputs": [],
   "source": []
  },
  {
   "cell_type": "code",
   "execution_count": 15,
   "id": "e14d895c",
   "metadata": {},
   "outputs": [],
   "source": [
    "from nltk.tokenize import sent_tokenize, word_tokenize\n",
    "import string\n",
    "\n",
    "def preprocessing_text(text):\n",
    "    text = str(text)\n",
    "    text = text.replace('“', '').replace('”', '').replace('–','').replace(',','').replace('’','')\n",
    "    sentences = sent_tokenize(text)\n",
    "    processed_sentences = []\n",
    "    \n",
    "    for sentence in sentences:\n",
    "        tokens = word_tokenize(sentence)\n",
    "        unwanted_symbols = string.punctuation.replace('.', '').replace(\"'\", '') \n",
    "        tokens = [token.lower() for token in tokens if token not in unwanted_symbols]\n",
    "        processed_sentence = ' '.join(tokens)\n",
    "        processed_sentences.append(processed_sentence)\n",
    "    \n",
    "    preprocessed_text = ' '.join(processed_sentences)\n",
    "    return preprocessed_text"
   ]
  },
  {
   "cell_type": "code",
   "execution_count": 16,
   "id": "88e215c5",
   "metadata": {},
   "outputs": [],
   "source": [
    "df['preprocessed_text'] = df['sentence'].apply(preprocessing_text)"
   ]
  },
  {
   "cell_type": "code",
   "execution_count": 17,
   "id": "1a4bb747",
   "metadata": {},
   "outputs": [
    {
     "data": {
      "text/html": [
       "<div>\n",
       "<style scoped>\n",
       "    .dataframe tbody tr th:only-of-type {\n",
       "        vertical-align: middle;\n",
       "    }\n",
       "\n",
       "    .dataframe tbody tr th {\n",
       "        vertical-align: top;\n",
       "    }\n",
       "\n",
       "    .dataframe thead th {\n",
       "        text-align: right;\n",
       "    }\n",
       "</style>\n",
       "<table border=\"1\" class=\"dataframe\">\n",
       "  <thead>\n",
       "    <tr style=\"text-align: right;\">\n",
       "      <th></th>\n",
       "      <th>index</th>\n",
       "      <th>sentence</th>\n",
       "      <th>subject</th>\n",
       "      <th>class_name</th>\n",
       "      <th>preprocessed_text</th>\n",
       "    </tr>\n",
       "  </thead>\n",
       "  <tbody>\n",
       "    <tr>\n",
       "      <th>15459</th>\n",
       "      <td>628</td>\n",
       "      <td>Nutritionists professionals who work in this f...</td>\n",
       "      <td>Home_science</td>\n",
       "      <td>11.0</td>\n",
       "      <td>nutritionists professionals who work in this f...</td>\n",
       "    </tr>\n",
       "    <tr>\n",
       "      <th>2546</th>\n",
       "      <td>729</td>\n",
       "      <td>You could not fix a nail on the wall or tie a ...</td>\n",
       "      <td>science</td>\n",
       "      <td>8.0</td>\n",
       "      <td>you could not fix a nail on the wall or tie a ...</td>\n",
       "    </tr>\n",
       "    <tr>\n",
       "      <th>3649</th>\n",
       "      <td>455</td>\n",
       "      <td>Not the cedar</td>\n",
       "      <td>english</td>\n",
       "      <td>7.0</td>\n",
       "      <td>not the cedar</td>\n",
       "    </tr>\n",
       "    <tr>\n",
       "      <th>6600</th>\n",
       "      <td>114</td>\n",
       "      <td>In the gaseous state, the particles move about...</td>\n",
       "      <td>science</td>\n",
       "      <td>9.0</td>\n",
       "      <td>in the gaseous state the particles move about ...</td>\n",
       "    </tr>\n",
       "    <tr>\n",
       "      <th>1165</th>\n",
       "      <td>508</td>\n",
       "      <td>Similarly test the solutions listed in Table 3...</td>\n",
       "      <td>science</td>\n",
       "      <td>7.0</td>\n",
       "      <td>similarly test the solutions listed in table 3...</td>\n",
       "    </tr>\n",
       "  </tbody>\n",
       "</table>\n",
       "</div>"
      ],
      "text/plain": [
       "       index                                           sentence       subject  \\\n",
       "15459    628  Nutritionists professionals who work in this f...  Home_science   \n",
       "2546     729  You could not fix a nail on the wall or tie a ...       science   \n",
       "3649     455                                      Not the cedar       english   \n",
       "6600     114  In the gaseous state, the particles move about...       science   \n",
       "1165     508  Similarly test the solutions listed in Table 3...       science   \n",
       "\n",
       "       class_name                                  preprocessed_text  \n",
       "15459        11.0  nutritionists professionals who work in this f...  \n",
       "2546          8.0  you could not fix a nail on the wall or tie a ...  \n",
       "3649          7.0                                      not the cedar  \n",
       "6600          9.0  in the gaseous state the particles move about ...  \n",
       "1165          7.0  similarly test the solutions listed in table 3...  "
      ]
     },
     "execution_count": 17,
     "metadata": {},
     "output_type": "execute_result"
    }
   ],
   "source": [
    "df.sample(5)"
   ]
  },
  {
   "cell_type": "code",
   "execution_count": null,
   "id": "39a916d6",
   "metadata": {},
   "outputs": [],
   "source": []
  },
  {
   "cell_type": "code",
   "execution_count": 18,
   "id": "e76c8723",
   "metadata": {},
   "outputs": [],
   "source": [
    "import textstat\n",
    "\n",
    "def calculate_avg_words_per_sentence(text):\n",
    "    sentences = textstat.sentence_count(text)\n",
    "    words = textstat.lexicon_count(text)\n",
    "    if sentences > 0:\n",
    "        return words / sentences\n",
    "    else:\n",
    "        return 0\n",
    "\n",
    "def calculate_avg_syllables_per_word(text):\n",
    "    words = textstat.lexicon_count(text)\n",
    "    syllables = textstat.syllable_count(text)\n",
    "    if words > 0:\n",
    "        return syllables / words\n",
    "    else:\n",
    "        return 0\n",
    "\n",
    "\n",
    "df['avg_words_per_sentence'] = df['preprocessed_text'].apply(calculate_avg_words_per_sentence)\n",
    "df['avg_syllables_per_word'] = df['preprocessed_text'].apply(calculate_avg_syllables_per_word)"
   ]
  },
  {
   "cell_type": "code",
   "execution_count": null,
   "id": "839bb148",
   "metadata": {},
   "outputs": [],
   "source": []
  },
  {
   "cell_type": "code",
   "execution_count": 19,
   "id": "85cf906c",
   "metadata": {},
   "outputs": [],
   "source": [
    "def calculate_flesch_reading_ease(avg_words_per_sentence, avg_syllables_per_word):\n",
    "    return 206.835 - (1.015 * avg_words_per_sentence) - (84.6 * avg_syllables_per_word)\n",
    "\n",
    "\n",
    "df['flesch_reading_ease'] = df.apply(lambda row: calculate_flesch_reading_ease(row['avg_words_per_sentence'], row['avg_syllables_per_word']), axis=1)"
   ]
  },
  {
   "cell_type": "code",
   "execution_count": null,
   "id": "81bf330d",
   "metadata": {},
   "outputs": [],
   "source": []
  },
  {
   "cell_type": "code",
   "execution_count": 20,
   "id": "79e45a73",
   "metadata": {},
   "outputs": [],
   "source": [
    "df['preprocessed_text'] = df['preprocessed_text'].fillna('')\n",
    "\n",
    "df['ARI'] = df['preprocessed_text'].apply(lambda x: automated_readability_index(str(x)))"
   ]
  },
  {
   "cell_type": "code",
   "execution_count": null,
   "id": "aed6d871",
   "metadata": {},
   "outputs": [],
   "source": []
  },
  {
   "cell_type": "code",
   "execution_count": 21,
   "id": "f554fc5b",
   "metadata": {},
   "outputs": [
    {
     "data": {
      "text/html": [
       "<div>\n",
       "<style scoped>\n",
       "    .dataframe tbody tr th:only-of-type {\n",
       "        vertical-align: middle;\n",
       "    }\n",
       "\n",
       "    .dataframe tbody tr th {\n",
       "        vertical-align: top;\n",
       "    }\n",
       "\n",
       "    .dataframe thead th {\n",
       "        text-align: right;\n",
       "    }\n",
       "</style>\n",
       "<table border=\"1\" class=\"dataframe\">\n",
       "  <thead>\n",
       "    <tr style=\"text-align: right;\">\n",
       "      <th></th>\n",
       "      <th>index</th>\n",
       "      <th>sentence</th>\n",
       "      <th>subject</th>\n",
       "      <th>class_name</th>\n",
       "      <th>preprocessed_text</th>\n",
       "      <th>avg_words_per_sentence</th>\n",
       "      <th>avg_syllables_per_word</th>\n",
       "      <th>flesch_reading_ease</th>\n",
       "      <th>ARI</th>\n",
       "    </tr>\n",
       "  </thead>\n",
       "  <tbody>\n",
       "    <tr>\n",
       "      <th>14417</th>\n",
       "      <td>689</td>\n",
       "      <td>These preparations should ideally make it easi...</td>\n",
       "      <td>science</td>\n",
       "      <td>10.0</td>\n",
       "      <td>these preparations should ideally make it easi...</td>\n",
       "      <td>15.0</td>\n",
       "      <td>1.733333</td>\n",
       "      <td>44.970000</td>\n",
       "      <td>9.6</td>\n",
       "    </tr>\n",
       "    <tr>\n",
       "      <th>28780</th>\n",
       "      <td>276</td>\n",
       "      <td>Fortunately, in many parts of rural and urban ...</td>\n",
       "      <td>social_science</td>\n",
       "      <td>10.0</td>\n",
       "      <td>fortunately in many parts of rural and urban i...</td>\n",
       "      <td>21.0</td>\n",
       "      <td>1.809524</td>\n",
       "      <td>32.434286</td>\n",
       "      <td>15.3</td>\n",
       "    </tr>\n",
       "    <tr>\n",
       "      <th>28283</th>\n",
       "      <td>2472</td>\n",
       "      <td>We\\nknow that plants and photosynthetic bacter...</td>\n",
       "      <td>biology</td>\n",
       "      <td>12.0</td>\n",
       "      <td>we know that plants and photosynthetic bacteri...</td>\n",
       "      <td>19.0</td>\n",
       "      <td>1.947368</td>\n",
       "      <td>22.802632</td>\n",
       "      <td>15.1</td>\n",
       "    </tr>\n",
       "    <tr>\n",
       "      <th>7148</th>\n",
       "      <td>662</td>\n",
       "      <td>Of these inert elements, the SCIENCE Distribut...</td>\n",
       "      <td>science</td>\n",
       "      <td>9.0</td>\n",
       "      <td>of these inert elements the science distributi...</td>\n",
       "      <td>206.0</td>\n",
       "      <td>1.247573</td>\n",
       "      <td>-107.799660</td>\n",
       "      <td>93.5</td>\n",
       "    </tr>\n",
       "    <tr>\n",
       "      <th>15919</th>\n",
       "      <td>144</td>\n",
       "      <td>Larry and Herb were pumping like madmen</td>\n",
       "      <td>english</td>\n",
       "      <td>11.0</td>\n",
       "      <td>larry and herb were pumping like madmen</td>\n",
       "      <td>7.0</td>\n",
       "      <td>1.428571</td>\n",
       "      <td>78.872857</td>\n",
       "      <td>4.3</td>\n",
       "    </tr>\n",
       "  </tbody>\n",
       "</table>\n",
       "</div>"
      ],
      "text/plain": [
       "       index                                           sentence  \\\n",
       "14417    689  These preparations should ideally make it easi...   \n",
       "28780    276  Fortunately, in many parts of rural and urban ...   \n",
       "28283   2472  We\\nknow that plants and photosynthetic bacter...   \n",
       "7148     662  Of these inert elements, the SCIENCE Distribut...   \n",
       "15919    144            Larry and Herb were pumping like madmen   \n",
       "\n",
       "              subject  class_name  \\\n",
       "14417         science        10.0   \n",
       "28780  social_science        10.0   \n",
       "28283         biology        12.0   \n",
       "7148          science         9.0   \n",
       "15919         english        11.0   \n",
       "\n",
       "                                       preprocessed_text  \\\n",
       "14417  these preparations should ideally make it easi...   \n",
       "28780  fortunately in many parts of rural and urban i...   \n",
       "28283  we know that plants and photosynthetic bacteri...   \n",
       "7148   of these inert elements the science distributi...   \n",
       "15919            larry and herb were pumping like madmen   \n",
       "\n",
       "       avg_words_per_sentence  avg_syllables_per_word  flesch_reading_ease  \\\n",
       "14417                    15.0                1.733333            44.970000   \n",
       "28780                    21.0                1.809524            32.434286   \n",
       "28283                    19.0                1.947368            22.802632   \n",
       "7148                    206.0                1.247573          -107.799660   \n",
       "15919                     7.0                1.428571            78.872857   \n",
       "\n",
       "        ARI  \n",
       "14417   9.6  \n",
       "28780  15.3  \n",
       "28283  15.1  \n",
       "7148   93.5  \n",
       "15919   4.3  "
      ]
     },
     "execution_count": 21,
     "metadata": {},
     "output_type": "execute_result"
    }
   ],
   "source": [
    "df.sample(5)"
   ]
  },
  {
   "cell_type": "code",
   "execution_count": 26,
   "id": "289b1de8",
   "metadata": {},
   "outputs": [],
   "source": [
    "dfff = df[df['avg_words_per_sentence'] == 206]"
   ]
  },
  {
   "cell_type": "markdown",
   "id": "d9f11cbf",
   "metadata": {},
   "source": [
    "## Droping row having ARI <= 0"
   ]
  },
  {
   "cell_type": "code",
   "execution_count": 28,
   "id": "d7843b45",
   "metadata": {},
   "outputs": [
    {
     "name": "stdout",
     "output_type": "stream",
     "text": [
      "1706\n"
     ]
    }
   ],
   "source": [
    "count = 0\n",
    "for value in df['ARI']:\n",
    "    if(value <= 0):\n",
    "        count = count + 1\n",
    "print(count)      "
   ]
  },
  {
   "cell_type": "code",
   "execution_count": null,
   "id": "7ed6ad62",
   "metadata": {},
   "outputs": [],
   "source": []
  },
  {
   "cell_type": "code",
   "execution_count": 29,
   "id": "d9458453",
   "metadata": {},
   "outputs": [],
   "source": [
    "df = df[df['ARI'] > 0]\n",
    "df.reset_index(drop=True, inplace=True)"
   ]
  },
  {
   "cell_type": "code",
   "execution_count": 30,
   "id": "a968dd34",
   "metadata": {},
   "outputs": [
    {
     "name": "stdout",
     "output_type": "stream",
     "text": [
      "0\n"
     ]
    }
   ],
   "source": [
    "count = 0\n",
    "for value in df['ARI']:\n",
    "    if(value <= 0):\n",
    "        count = count + 1\n",
    "print(count) "
   ]
  },
  {
   "cell_type": "code",
   "execution_count": null,
   "id": "979386a4",
   "metadata": {},
   "outputs": [],
   "source": []
  },
  {
   "cell_type": "code",
   "execution_count": null,
   "id": "69803524",
   "metadata": {},
   "outputs": [],
   "source": []
  },
  {
   "cell_type": "markdown",
   "id": "71abea97",
   "metadata": {},
   "source": [
    "## Improve accuracy"
   ]
  },
  {
   "cell_type": "code",
   "execution_count": null,
   "id": "bcba4ee2",
   "metadata": {},
   "outputs": [],
   "source": []
  },
  {
   "cell_type": "code",
   "execution_count": 35,
   "id": "ff05c2fd",
   "metadata": {},
   "outputs": [],
   "source": [
    "X = df['preprocessed_text']\n",
    "y = df['ARI']\n",
    "\n",
    "X_train, X_test, y_train, y_test = train_test_split(X, y, test_size=0.2, random_state=42)"
   ]
  },
  {
   "cell_type": "code",
   "execution_count": 36,
   "id": "f3302039",
   "metadata": {},
   "outputs": [
    {
     "name": "stdout",
     "output_type": "stream",
     "text": [
      "R2 Score: 0.5327802513011113\n"
     ]
    }
   ],
   "source": [
    "\n",
    "vectorizer = TfidfVectorizer()\n",
    "X_train_vect = vectorizer.fit_transform(X_train)\n",
    "X_test_vect = vectorizer.transform(X_test)\n",
    "\n",
    "\n",
    "gbm = GradientBoostingRegressor()\n",
    "\n",
    "gbm.fit(X_train_vect, y_train)\n",
    "y_pred = gbm.predict(X_test_vect)\n",
    "\n",
    "acc = r2_score(y_test, y_pred)\n",
    "print(\"R2 Score:\", acc)"
   ]
  },
  {
   "cell_type": "code",
   "execution_count": null,
   "id": "b7ab2e87",
   "metadata": {},
   "outputs": [],
   "source": []
  },
  {
   "cell_type": "markdown",
   "id": "e23dcc7e",
   "metadata": {},
   "source": [
    "## calculating extra info"
   ]
  },
  {
   "cell_type": "code",
   "execution_count": 37,
   "id": "01c46454",
   "metadata": {},
   "outputs": [],
   "source": [
    "def count_words(text):\n",
    "    tokens =  word_tokenize(text)\n",
    "    return len(tokens)"
   ]
  },
  {
   "cell_type": "code",
   "execution_count": 38,
   "id": "221256c0",
   "metadata": {},
   "outputs": [],
   "source": [
    "df['word_counts'] = df['preprocessed_text'].apply(count_words)"
   ]
  },
  {
   "cell_type": "code",
   "execution_count": 39,
   "id": "f4f85da6",
   "metadata": {},
   "outputs": [],
   "source": [
    "def sentence_count(text):\n",
    "    sentences = sent_tokenize(text)\n",
    "    return len(sentences)"
   ]
  },
  {
   "cell_type": "code",
   "execution_count": 40,
   "id": "018fbd6b",
   "metadata": {},
   "outputs": [],
   "source": [
    "df['sentence_count'] = df['preprocessed_text'].apply(sentence_count)"
   ]
  },
  {
   "cell_type": "code",
   "execution_count": 41,
   "id": "825d1346",
   "metadata": {},
   "outputs": [],
   "source": [
    "def unique_words(text):\n",
    "    tokens = word_tokenize(text)\n",
    "    return len(set(tokens))"
   ]
  },
  {
   "cell_type": "code",
   "execution_count": 42,
   "id": "ac6446f5",
   "metadata": {},
   "outputs": [],
   "source": [
    "df['unique_words'] = df['preprocessed_text'].apply(unique_words)"
   ]
  },
  {
   "cell_type": "code",
   "execution_count": 43,
   "id": "ba2188c6",
   "metadata": {},
   "outputs": [],
   "source": [
    "def type_token_ration(text):\n",
    "    words = text.split()\n",
    "    unique_words = set(words)\n",
    "    ttr = len(unique_words)/ len(words)\n",
    "    return ttr"
   ]
  },
  {
   "cell_type": "code",
   "execution_count": 44,
   "id": "c3025438",
   "metadata": {},
   "outputs": [],
   "source": [
    "df['TTR'] = df['preprocessed_text'].apply(type_token_ration)"
   ]
  },
  {
   "cell_type": "code",
   "execution_count": 45,
   "id": "aa09d62d",
   "metadata": {},
   "outputs": [],
   "source": [
    "import spacy\n",
    "\n",
    "nlp = spacy.load(\"en_core_web_sm\")\n",
    "\n",
    "def parse_tree_height(sentence):\n",
    "    doc = nlp(sentence)\n",
    "    parse_tree = [token.head for token in doc]\n",
    "    max_depth = max([depth(parse_tree, token) for token in doc])\n",
    "    return max_depth\n",
    "\n",
    "def depth(parse_tree, token):\n",
    "    if token is parse_tree[token.i]:\n",
    "        return 1\n",
    "    else:\n",
    "        return 1 + depth(parse_tree, parse_tree[token.i])\n",
    "\n",
    "\n",
    "def average_parse_tree_height(text):\n",
    "    sentences = [sent.text for sent in nlp(text).sents]\n",
    "    parse_tree_heights = [parse_tree_height(sentence) for sentence in sentences]\n",
    "    avg_height = sum(parse_tree_heights) / len(parse_tree_heights)\n",
    "    return avg_height\n",
    "\n",
    "\n",
    "df['avg_height'] = df['preprocessed_text'].apply(average_parse_tree_height)"
   ]
  },
  {
   "cell_type": "code",
   "execution_count": null,
   "id": "811d3b0c",
   "metadata": {},
   "outputs": [],
   "source": []
  },
  {
   "cell_type": "markdown",
   "id": "2f33079a",
   "metadata": {},
   "source": [
    "## Calculating flesch-kincaid "
   ]
  },
  {
   "cell_type": "code",
   "execution_count": 46,
   "id": "6ce7dfab",
   "metadata": {},
   "outputs": [],
   "source": [
    "def calculate_flesch_kincaid_grade_level(row):\n",
    "    return 0.39 * row['avg_words_per_sentence'] + 11.8 * row['avg_syllables_per_word'] - 15.59"
   ]
  },
  {
   "cell_type": "code",
   "execution_count": 47,
   "id": "5dc6658b",
   "metadata": {},
   "outputs": [],
   "source": [
    "df['flesch_grade_level'] = df.apply(calculate_flesch_kincaid_grade_level, axis=1)"
   ]
  },
  {
   "cell_type": "code",
   "execution_count": null,
   "id": "f85a1bd4",
   "metadata": {},
   "outputs": [],
   "source": []
  },
  {
   "cell_type": "markdown",
   "id": "0a7dd30f",
   "metadata": {},
   "source": [
    "## Column transformer for pipelining"
   ]
  },
  {
   "cell_type": "code",
   "execution_count": 48,
   "id": "35e68705",
   "metadata": {},
   "outputs": [],
   "source": [
    "from sklearn.compose import ColumnTransformer\n",
    "from sklearn.pipeline import Pipeline\n",
    "from sklearn.preprocessing import StandardScaler"
   ]
  },
  {
   "cell_type": "code",
   "execution_count": 49,
   "id": "d876444e",
   "metadata": {},
   "outputs": [
    {
     "name": "stdout",
     "output_type": "stream",
     "text": [
      "Training set - Features: (22200, 1005) Target: (22200,)\n",
      "Testing set - Features: (5551, 1005) Target: (5551,)\n"
     ]
    }
   ],
   "source": [
    "\n",
    "X_text = df['preprocessed_text']\n",
    "X_numeric = df[['avg_words_per_sentence', 'avg_syllables_per_word', 'sentence_count', 'TTR', 'avg_height']]\n",
    "y = df['flesch_grade_level']\n",
    "\n",
    "text_preprocessor = TfidfVectorizer(max_features=1000)  \n",
    "num_preprocessor = StandardScaler()\n",
    "\n",
    "processor = ColumnTransformer(transformers=[\n",
    "    ('text', text_preprocessor, 'preprocessed_text'),\n",
    "    ('numeric', num_preprocessor, ['avg_words_per_sentence', 'avg_syllables_per_word', 'sentence_count', 'TTR', 'avg_height'])\n",
    "])\n",
    "\n",
    "X_processed = processor.fit_transform(df)\n",
    "\n",
    "X_train, X_test, y_train, y_test = train_test_split(X_processed, y, test_size=0.2, random_state=42)\n",
    "\n",
    "print(\"Training set - Features:\", X_train.shape, \"Target:\", y_train.shape)\n",
    "print(\"Testing set - Features:\", X_test.shape, \"Target:\", y_test.shape)\n"
   ]
  },
  {
   "cell_type": "code",
   "execution_count": null,
   "id": "8597cdc5",
   "metadata": {},
   "outputs": [],
   "source": []
  },
  {
   "cell_type": "markdown",
   "id": "2b59b5a8",
   "metadata": {},
   "source": [
    "## Models"
   ]
  },
  {
   "cell_type": "code",
   "execution_count": 73,
   "id": "4594e94e",
   "metadata": {},
   "outputs": [
    {
     "name": "stdout",
     "output_type": "stream",
     "text": [
      "R2 Score: 0.8966669961295215\n",
      "mse Score: 3.2943946117419434\n"
     ]
    }
   ],
   "source": [
    "gbm = GradientBoostingRegressor()\n",
    "\n",
    "gbm.fit(X_train, y_train)\n",
    "y_pred = gbm.predict(X_test)\n",
    "mse = mean_squared_error(y_test, y_pred)\n",
    "acc = r2_score(y_test, y_pred)\n",
    "print(\"R2 Score:\", acc)\n",
    "print(\"mse Score:\", mse)"
   ]
  },
  {
   "cell_type": "code",
   "execution_count": null,
   "id": "8e1a397a",
   "metadata": {},
   "outputs": [],
   "source": []
  },
  {
   "cell_type": "code",
   "execution_count": 74,
   "id": "8cf73565",
   "metadata": {},
   "outputs": [
    {
     "name": "stdout",
     "output_type": "stream",
     "text": [
      "R2 Score: 0.8965378510312492\n",
      "mse Score: 3.2985119305069586\n"
     ]
    }
   ],
   "source": [
    "gbm = RandomForestRegressor()\n",
    "\n",
    "gbm.fit(X_train, y_train)\n",
    "y_pred = gbm.predict(X_test)\n",
    "mse = mean_squared_error(y_test, y_pred)\n",
    "acc = r2_score(y_test, y_pred)\n",
    "print(\"R2 Score:\", acc)\n",
    "print(\"mse Score:\", mse)"
   ]
  },
  {
   "cell_type": "code",
   "execution_count": null,
   "id": "a84efcc8",
   "metadata": {},
   "outputs": [],
   "source": []
  },
  {
   "cell_type": "code",
   "execution_count": 50,
   "id": "a885539c",
   "metadata": {},
   "outputs": [],
   "source": [
    "from sklearn.svm import SVR"
   ]
  },
  {
   "cell_type": "code",
   "execution_count": 51,
   "id": "8bc70cce",
   "metadata": {},
   "outputs": [
    {
     "name": "stdout",
     "output_type": "stream",
     "text": [
      "R2 Score: 0.9858523470799867\n",
      "mse Score: 0.31436081214737316\n"
     ]
    }
   ],
   "source": [
    "gbm = SVR()\n",
    "\n",
    "gbm.fit(X_train, y_train)\n",
    "y_pred = gbm.predict(X_test)\n",
    "mse = mean_squared_error(y_test, y_pred)\n",
    "acc = r2_score(y_test, y_pred)\n",
    "print(\"R2 Score:\", acc)\n",
    "print(\"mse Score:\", mse)"
   ]
  },
  {
   "cell_type": "code",
   "execution_count": null,
   "id": "c29fd0f6",
   "metadata": {},
   "outputs": [],
   "source": []
  },
  {
   "cell_type": "code",
   "execution_count": 52,
   "id": "6c33b133",
   "metadata": {},
   "outputs": [
    {
     "data": {
      "text/html": [
       "<div>\n",
       "<style scoped>\n",
       "    .dataframe tbody tr th:only-of-type {\n",
       "        vertical-align: middle;\n",
       "    }\n",
       "\n",
       "    .dataframe tbody tr th {\n",
       "        vertical-align: top;\n",
       "    }\n",
       "\n",
       "    .dataframe thead th {\n",
       "        text-align: right;\n",
       "    }\n",
       "</style>\n",
       "<table border=\"1\" class=\"dataframe\">\n",
       "  <thead>\n",
       "    <tr style=\"text-align: right;\">\n",
       "      <th></th>\n",
       "      <th>index</th>\n",
       "      <th>sentence</th>\n",
       "      <th>subject</th>\n",
       "      <th>class_name</th>\n",
       "      <th>preprocessed_text</th>\n",
       "      <th>avg_words_per_sentence</th>\n",
       "      <th>avg_syllables_per_word</th>\n",
       "      <th>flesch_reading_ease</th>\n",
       "      <th>ARI</th>\n",
       "      <th>word_counts</th>\n",
       "      <th>sentence_count</th>\n",
       "      <th>unique_words</th>\n",
       "      <th>TTR</th>\n",
       "      <th>avg_height</th>\n",
       "      <th>flesch_grade_level</th>\n",
       "    </tr>\n",
       "  </thead>\n",
       "  <tbody>\n",
       "    <tr>\n",
       "      <th>0</th>\n",
       "      <td>1</td>\n",
       "      <td>In Class VI you learnt that food is essential ...</td>\n",
       "      <td>science</td>\n",
       "      <td>7.0</td>\n",
       "      <td>in class vi you learnt that food is essential ...</td>\n",
       "      <td>13.0</td>\n",
       "      <td>1.384615</td>\n",
       "      <td>76.501538</td>\n",
       "      <td>6.1</td>\n",
       "      <td>13</td>\n",
       "      <td>1</td>\n",
       "      <td>13</td>\n",
       "      <td>1.000000</td>\n",
       "      <td>6.0</td>\n",
       "      <td>5.818462</td>\n",
       "    </tr>\n",
       "    <tr>\n",
       "      <th>1</th>\n",
       "      <td>2</td>\n",
       "      <td>You also learnt that carbohydrates, proteins, ...</td>\n",
       "      <td>science</td>\n",
       "      <td>7.0</td>\n",
       "      <td>you also learnt that carbohydrates proteins fa...</td>\n",
       "      <td>14.0</td>\n",
       "      <td>1.785714</td>\n",
       "      <td>41.553571</td>\n",
       "      <td>12.5</td>\n",
       "      <td>14</td>\n",
       "      <td>1</td>\n",
       "      <td>14</td>\n",
       "      <td>1.000000</td>\n",
       "      <td>6.0</td>\n",
       "      <td>10.941429</td>\n",
       "    </tr>\n",
       "    <tr>\n",
       "      <th>2</th>\n",
       "      <td>3</td>\n",
       "      <td>These components of food are called nutrients ...</td>\n",
       "      <td>science</td>\n",
       "      <td>7.0</td>\n",
       "      <td>these components of food are called nutrients ...</td>\n",
       "      <td>13.0</td>\n",
       "      <td>1.461538</td>\n",
       "      <td>69.993846</td>\n",
       "      <td>8.2</td>\n",
       "      <td>13</td>\n",
       "      <td>1</td>\n",
       "      <td>12</td>\n",
       "      <td>0.923077</td>\n",
       "      <td>6.0</td>\n",
       "      <td>6.726154</td>\n",
       "    </tr>\n",
       "    <tr>\n",
       "      <th>3</th>\n",
       "      <td>4</td>\n",
       "      <td>All living organisms require food</td>\n",
       "      <td>science</td>\n",
       "      <td>7.0</td>\n",
       "      <td>all living organisms require food</td>\n",
       "      <td>5.0</td>\n",
       "      <td>1.800000</td>\n",
       "      <td>49.480000</td>\n",
       "      <td>8.4</td>\n",
       "      <td>5</td>\n",
       "      <td>1</td>\n",
       "      <td>5</td>\n",
       "      <td>1.000000</td>\n",
       "      <td>4.0</td>\n",
       "      <td>7.600000</td>\n",
       "    </tr>\n",
       "    <tr>\n",
       "      <th>4</th>\n",
       "      <td>5</td>\n",
       "      <td>Plants can synthesise food for themselves but ...</td>\n",
       "      <td>science</td>\n",
       "      <td>7.0</td>\n",
       "      <td>plants can synthesise food for themselves but ...</td>\n",
       "      <td>12.0</td>\n",
       "      <td>1.666667</td>\n",
       "      <td>53.655000</td>\n",
       "      <td>10.9</td>\n",
       "      <td>12</td>\n",
       "      <td>1</td>\n",
       "      <td>11</td>\n",
       "      <td>0.916667</td>\n",
       "      <td>7.0</td>\n",
       "      <td>8.756667</td>\n",
       "    </tr>\n",
       "  </tbody>\n",
       "</table>\n",
       "</div>"
      ],
      "text/plain": [
       "   index                                           sentence  subject  \\\n",
       "0      1  In Class VI you learnt that food is essential ...  science   \n",
       "1      2  You also learnt that carbohydrates, proteins, ...  science   \n",
       "2      3  These components of food are called nutrients ...  science   \n",
       "3      4                  All living organisms require food  science   \n",
       "4      5  Plants can synthesise food for themselves but ...  science   \n",
       "\n",
       "   class_name                                  preprocessed_text  \\\n",
       "0         7.0  in class vi you learnt that food is essential ...   \n",
       "1         7.0  you also learnt that carbohydrates proteins fa...   \n",
       "2         7.0  these components of food are called nutrients ...   \n",
       "3         7.0                  all living organisms require food   \n",
       "4         7.0  plants can synthesise food for themselves but ...   \n",
       "\n",
       "   avg_words_per_sentence  avg_syllables_per_word  flesch_reading_ease   ARI  \\\n",
       "0                    13.0                1.384615            76.501538   6.1   \n",
       "1                    14.0                1.785714            41.553571  12.5   \n",
       "2                    13.0                1.461538            69.993846   8.2   \n",
       "3                     5.0                1.800000            49.480000   8.4   \n",
       "4                    12.0                1.666667            53.655000  10.9   \n",
       "\n",
       "   word_counts  sentence_count  unique_words       TTR  avg_height  \\\n",
       "0           13               1            13  1.000000         6.0   \n",
       "1           14               1            14  1.000000         6.0   \n",
       "2           13               1            12  0.923077         6.0   \n",
       "3            5               1             5  1.000000         4.0   \n",
       "4           12               1            11  0.916667         7.0   \n",
       "\n",
       "   flesch_grade_level  \n",
       "0            5.818462  \n",
       "1           10.941429  \n",
       "2            6.726154  \n",
       "3            7.600000  \n",
       "4            8.756667  "
      ]
     },
     "execution_count": 52,
     "metadata": {},
     "output_type": "execute_result"
    }
   ],
   "source": [
    "df.head()"
   ]
  },
  {
   "cell_type": "code",
   "execution_count": null,
   "id": "37be4b07",
   "metadata": {},
   "outputs": [],
   "source": []
  },
  {
   "cell_type": "markdown",
   "id": "7740aa56",
   "metadata": {},
   "source": [
    "## GRADE"
   ]
  },
  {
   "cell_type": "markdown",
   "id": "fc5b590a",
   "metadata": {},
   "source": [
    "## <font color='red'>ARI</font>"
   ]
  },
  {
   "cell_type": "code",
   "execution_count": 53,
   "id": "54ae3871",
   "metadata": {},
   "outputs": [],
   "source": [
    "def grade(score):\n",
    "    score = round(score)\n",
    "    if 1 <= score <= 6:\n",
    "        return 'ESS'\n",
    "    elif 7 <= score <= 8:\n",
    "        return '12-13'\n",
    "    elif 9 <= score <= 12:\n",
    "        return '14-15'\n",
    "    elif 13 <= score <= 16:\n",
    "        return '16-18'\n",
    "    elif 17 <= score <= 18:\n",
    "        return 'CG'\n",
    "    else:\n",
    "        return 'PG'"
   ]
  },
  {
   "cell_type": "code",
   "execution_count": 54,
   "id": "b66bd08a",
   "metadata": {},
   "outputs": [],
   "source": [
    "df['GRADE'] = df['ARI'].apply(grade)"
   ]
  },
  {
   "cell_type": "code",
   "execution_count": 55,
   "id": "d38f05e5",
   "metadata": {},
   "outputs": [
    {
     "data": {
      "text/html": [
       "<div>\n",
       "<style scoped>\n",
       "    .dataframe tbody tr th:only-of-type {\n",
       "        vertical-align: middle;\n",
       "    }\n",
       "\n",
       "    .dataframe tbody tr th {\n",
       "        vertical-align: top;\n",
       "    }\n",
       "\n",
       "    .dataframe thead th {\n",
       "        text-align: right;\n",
       "    }\n",
       "</style>\n",
       "<table border=\"1\" class=\"dataframe\">\n",
       "  <thead>\n",
       "    <tr style=\"text-align: right;\">\n",
       "      <th></th>\n",
       "      <th>index</th>\n",
       "      <th>sentence</th>\n",
       "      <th>subject</th>\n",
       "      <th>class_name</th>\n",
       "      <th>preprocessed_text</th>\n",
       "      <th>avg_words_per_sentence</th>\n",
       "      <th>avg_syllables_per_word</th>\n",
       "      <th>flesch_reading_ease</th>\n",
       "      <th>ARI</th>\n",
       "      <th>word_counts</th>\n",
       "      <th>sentence_count</th>\n",
       "      <th>unique_words</th>\n",
       "      <th>TTR</th>\n",
       "      <th>avg_height</th>\n",
       "      <th>flesch_grade_level</th>\n",
       "      <th>GRADE</th>\n",
       "    </tr>\n",
       "  </thead>\n",
       "  <tbody>\n",
       "    <tr>\n",
       "      <th>26263</th>\n",
       "      <td>155</td>\n",
       "      <td>You may have realised the importance of these ...</td>\n",
       "      <td>social_science</td>\n",
       "      <td>10.0</td>\n",
       "      <td>you may have realised the importance of these ...</td>\n",
       "      <td>13.0</td>\n",
       "      <td>1.384615</td>\n",
       "      <td>76.501538</td>\n",
       "      <td>7.2</td>\n",
       "      <td>13</td>\n",
       "      <td>1</td>\n",
       "      <td>13</td>\n",
       "      <td>1.0000</td>\n",
       "      <td>6.0</td>\n",
       "      <td>5.818462</td>\n",
       "      <td>12-13</td>\n",
       "    </tr>\n",
       "    <tr>\n",
       "      <th>4644</th>\n",
       "      <td>703</td>\n",
       "      <td>They are near our home and we can go there on ...</td>\n",
       "      <td>social_science</td>\n",
       "      <td>7.0</td>\n",
       "      <td>they are near our home and we can go there on ...</td>\n",
       "      <td>16.0</td>\n",
       "      <td>1.000000</td>\n",
       "      <td>105.995000</td>\n",
       "      <td>1.3</td>\n",
       "      <td>16</td>\n",
       "      <td>1</td>\n",
       "      <td>16</td>\n",
       "      <td>1.0000</td>\n",
       "      <td>8.0</td>\n",
       "      <td>2.450000</td>\n",
       "      <td>ESS</td>\n",
       "    </tr>\n",
       "    <tr>\n",
       "      <th>12114</th>\n",
       "      <td>103</td>\n",
       "      <td>A scale for measuring hydrogen ion concentrati...</td>\n",
       "      <td>science</td>\n",
       "      <td>10.0</td>\n",
       "      <td>a scale for measuring hydrogen ion concentrati...</td>\n",
       "      <td>16.0</td>\n",
       "      <td>1.687500</td>\n",
       "      <td>47.832500</td>\n",
       "      <td>10.7</td>\n",
       "      <td>16</td>\n",
       "      <td>1</td>\n",
       "      <td>14</td>\n",
       "      <td>0.8750</td>\n",
       "      <td>10.0</td>\n",
       "      <td>10.562500</td>\n",
       "      <td>14-15</td>\n",
       "    </tr>\n",
       "    <tr>\n",
       "      <th>17885</th>\n",
       "      <td>727</td>\n",
       "      <td>They are triploblastic and coelomate animals</td>\n",
       "      <td>biology</td>\n",
       "      <td>11.0</td>\n",
       "      <td>they are triploblastic and coelomate animals</td>\n",
       "      <td>6.0</td>\n",
       "      <td>1.666667</td>\n",
       "      <td>59.745000</td>\n",
       "      <td>12.2</td>\n",
       "      <td>6</td>\n",
       "      <td>1</td>\n",
       "      <td>6</td>\n",
       "      <td>1.0000</td>\n",
       "      <td>5.0</td>\n",
       "      <td>6.416667</td>\n",
       "      <td>14-15</td>\n",
       "    </tr>\n",
       "    <tr>\n",
       "      <th>18449</th>\n",
       "      <td>1306</td>\n",
       "      <td>Mitochondria sing</td>\n",
       "      <td>biology</td>\n",
       "      <td>11.0</td>\n",
       "      <td>mitochondria sing</td>\n",
       "      <td>2.0</td>\n",
       "      <td>2.500000</td>\n",
       "      <td>-6.695000</td>\n",
       "      <td>17.3</td>\n",
       "      <td>2</td>\n",
       "      <td>1</td>\n",
       "      <td>2</td>\n",
       "      <td>1.0000</td>\n",
       "      <td>3.0</td>\n",
       "      <td>14.690000</td>\n",
       "      <td>CG</td>\n",
       "    </tr>\n",
       "    <tr>\n",
       "      <th>1168</th>\n",
       "      <td>109</td>\n",
       "      <td>Harvesting in our country is either done manua...</td>\n",
       "      <td>science</td>\n",
       "      <td>8.0</td>\n",
       "      <td>harvesting in our country is either done manua...</td>\n",
       "      <td>16.0</td>\n",
       "      <td>1.625000</td>\n",
       "      <td>53.120000</td>\n",
       "      <td>9.2</td>\n",
       "      <td>16</td>\n",
       "      <td>1</td>\n",
       "      <td>15</td>\n",
       "      <td>0.9375</td>\n",
       "      <td>7.0</td>\n",
       "      <td>9.825000</td>\n",
       "      <td>14-15</td>\n",
       "    </tr>\n",
       "    <tr>\n",
       "      <th>26241</th>\n",
       "      <td>130</td>\n",
       "      <td>Soil erosion is also caused due to defective m...</td>\n",
       "      <td>social_science</td>\n",
       "      <td>10.0</td>\n",
       "      <td>soil erosion is also caused due to defective m...</td>\n",
       "      <td>11.0</td>\n",
       "      <td>1.545455</td>\n",
       "      <td>64.924545</td>\n",
       "      <td>6.8</td>\n",
       "      <td>11</td>\n",
       "      <td>1</td>\n",
       "      <td>11</td>\n",
       "      <td>1.0000</td>\n",
       "      <td>6.0</td>\n",
       "      <td>6.936364</td>\n",
       "      <td>12-13</td>\n",
       "    </tr>\n",
       "    <tr>\n",
       "      <th>14230</th>\n",
       "      <td>327</td>\n",
       "      <td>Large areas, officially designated as forest l...</td>\n",
       "      <td>english</td>\n",
       "      <td>11.0</td>\n",
       "      <td>large areas officially designated as forest la...</td>\n",
       "      <td>11.0</td>\n",
       "      <td>2.181818</td>\n",
       "      <td>11.088182</td>\n",
       "      <td>13.6</td>\n",
       "      <td>11</td>\n",
       "      <td>1</td>\n",
       "      <td>11</td>\n",
       "      <td>1.0000</td>\n",
       "      <td>7.0</td>\n",
       "      <td>14.445455</td>\n",
       "      <td>16-18</td>\n",
       "    </tr>\n",
       "    <tr>\n",
       "      <th>18150</th>\n",
       "      <td>996</td>\n",
       "      <td>Cortical layers below hypodermis consist of ro...</td>\n",
       "      <td>biology</td>\n",
       "      <td>11.0</td>\n",
       "      <td>cortical layers below hypodermis consist of ro...</td>\n",
       "      <td>15.0</td>\n",
       "      <td>2.266667</td>\n",
       "      <td>-0.150000</td>\n",
       "      <td>20.0</td>\n",
       "      <td>15</td>\n",
       "      <td>1</td>\n",
       "      <td>15</td>\n",
       "      <td>1.0000</td>\n",
       "      <td>9.0</td>\n",
       "      <td>17.006667</td>\n",
       "      <td>PG</td>\n",
       "    </tr>\n",
       "    <tr>\n",
       "      <th>23412</th>\n",
       "      <td>3403</td>\n",
       "      <td>“I do not want any constitution in which the U...</td>\n",
       "      <td>history</td>\n",
       "      <td>12.0</td>\n",
       "      <td>i do not want any constitution in which the un...</td>\n",
       "      <td>24.0</td>\n",
       "      <td>1.291667</td>\n",
       "      <td>73.200000</td>\n",
       "      <td>7.9</td>\n",
       "      <td>25</td>\n",
       "      <td>1</td>\n",
       "      <td>21</td>\n",
       "      <td>0.8400</td>\n",
       "      <td>9.0</td>\n",
       "      <td>9.011667</td>\n",
       "      <td>12-13</td>\n",
       "    </tr>\n",
       "  </tbody>\n",
       "</table>\n",
       "</div>"
      ],
      "text/plain": [
       "       index                                           sentence  \\\n",
       "26263    155  You may have realised the importance of these ...   \n",
       "4644     703  They are near our home and we can go there on ...   \n",
       "12114    103  A scale for measuring hydrogen ion concentrati...   \n",
       "17885    727       They are triploblastic and coelomate animals   \n",
       "18449   1306                                  Mitochondria sing   \n",
       "1168     109  Harvesting in our country is either done manua...   \n",
       "26241    130  Soil erosion is also caused due to defective m...   \n",
       "14230    327  Large areas, officially designated as forest l...   \n",
       "18150    996  Cortical layers below hypodermis consist of ro...   \n",
       "23412   3403  “I do not want any constitution in which the U...   \n",
       "\n",
       "              subject  class_name  \\\n",
       "26263  social_science        10.0   \n",
       "4644   social_science         7.0   \n",
       "12114         science        10.0   \n",
       "17885         biology        11.0   \n",
       "18449         biology        11.0   \n",
       "1168          science         8.0   \n",
       "26241  social_science        10.0   \n",
       "14230         english        11.0   \n",
       "18150         biology        11.0   \n",
       "23412         history        12.0   \n",
       "\n",
       "                                       preprocessed_text  \\\n",
       "26263  you may have realised the importance of these ...   \n",
       "4644   they are near our home and we can go there on ...   \n",
       "12114  a scale for measuring hydrogen ion concentrati...   \n",
       "17885       they are triploblastic and coelomate animals   \n",
       "18449                                  mitochondria sing   \n",
       "1168   harvesting in our country is either done manua...   \n",
       "26241  soil erosion is also caused due to defective m...   \n",
       "14230  large areas officially designated as forest la...   \n",
       "18150  cortical layers below hypodermis consist of ro...   \n",
       "23412  i do not want any constitution in which the un...   \n",
       "\n",
       "       avg_words_per_sentence  avg_syllables_per_word  flesch_reading_ease  \\\n",
       "26263                    13.0                1.384615            76.501538   \n",
       "4644                     16.0                1.000000           105.995000   \n",
       "12114                    16.0                1.687500            47.832500   \n",
       "17885                     6.0                1.666667            59.745000   \n",
       "18449                     2.0                2.500000            -6.695000   \n",
       "1168                     16.0                1.625000            53.120000   \n",
       "26241                    11.0                1.545455            64.924545   \n",
       "14230                    11.0                2.181818            11.088182   \n",
       "18150                    15.0                2.266667            -0.150000   \n",
       "23412                    24.0                1.291667            73.200000   \n",
       "\n",
       "        ARI  word_counts  sentence_count  unique_words     TTR  avg_height  \\\n",
       "26263   7.2           13               1            13  1.0000         6.0   \n",
       "4644    1.3           16               1            16  1.0000         8.0   \n",
       "12114  10.7           16               1            14  0.8750        10.0   \n",
       "17885  12.2            6               1             6  1.0000         5.0   \n",
       "18449  17.3            2               1             2  1.0000         3.0   \n",
       "1168    9.2           16               1            15  0.9375         7.0   \n",
       "26241   6.8           11               1            11  1.0000         6.0   \n",
       "14230  13.6           11               1            11  1.0000         7.0   \n",
       "18150  20.0           15               1            15  1.0000         9.0   \n",
       "23412   7.9           25               1            21  0.8400         9.0   \n",
       "\n",
       "       flesch_grade_level  GRADE  \n",
       "26263            5.818462  12-13  \n",
       "4644             2.450000    ESS  \n",
       "12114           10.562500  14-15  \n",
       "17885            6.416667  14-15  \n",
       "18449           14.690000     CG  \n",
       "1168             9.825000  14-15  \n",
       "26241            6.936364  12-13  \n",
       "14230           14.445455  16-18  \n",
       "18150           17.006667     PG  \n",
       "23412            9.011667  12-13  "
      ]
     },
     "execution_count": 55,
     "metadata": {},
     "output_type": "execute_result"
    }
   ],
   "source": [
    "df.sample(10)"
   ]
  },
  {
   "cell_type": "code",
   "execution_count": null,
   "id": "20ff29ec",
   "metadata": {},
   "outputs": [],
   "source": []
  },
  {
   "cell_type": "markdown",
   "id": "58aa098a",
   "metadata": {},
   "source": [
    "## <font color='red'>Flesch-kincaid</font>"
   ]
  },
  {
   "cell_type": "code",
   "execution_count": 112,
   "id": "40b08974",
   "metadata": {},
   "outputs": [],
   "source": [
    "df = df.drop(columns = ['class'])"
   ]
  },
  {
   "cell_type": "code",
   "execution_count": 57,
   "id": "1f344748",
   "metadata": {},
   "outputs": [],
   "source": [
    "def FKGL(score):\n",
    "    if score < 3:\n",
    "        return \"Very Easy\"\n",
    "    elif 3 <= score < 6:\n",
    "        return \"Easy\"\n",
    "    elif 6 <= score < 8:\n",
    "        return \"Medium\"\n",
    "    elif 8 <= score < 10:\n",
    "        return \"Difficult\"\n",
    "    else:\n",
    "        return \"Very Difficult\""
   ]
  },
  {
   "cell_type": "code",
   "execution_count": 58,
   "id": "e1b78a8e",
   "metadata": {},
   "outputs": [],
   "source": [
    "df['FKGL'] = df['flesch_grade_level'].apply(FKGL)"
   ]
  },
  {
   "cell_type": "code",
   "execution_count": 59,
   "id": "34aed4ec",
   "metadata": {},
   "outputs": [
    {
     "data": {
      "text/html": [
       "<div>\n",
       "<style scoped>\n",
       "    .dataframe tbody tr th:only-of-type {\n",
       "        vertical-align: middle;\n",
       "    }\n",
       "\n",
       "    .dataframe tbody tr th {\n",
       "        vertical-align: top;\n",
       "    }\n",
       "\n",
       "    .dataframe thead th {\n",
       "        text-align: right;\n",
       "    }\n",
       "</style>\n",
       "<table border=\"1\" class=\"dataframe\">\n",
       "  <thead>\n",
       "    <tr style=\"text-align: right;\">\n",
       "      <th></th>\n",
       "      <th>index</th>\n",
       "      <th>sentence</th>\n",
       "      <th>subject</th>\n",
       "      <th>class_name</th>\n",
       "      <th>preprocessed_text</th>\n",
       "      <th>avg_words_per_sentence</th>\n",
       "      <th>avg_syllables_per_word</th>\n",
       "      <th>flesch_reading_ease</th>\n",
       "      <th>ARI</th>\n",
       "      <th>word_counts</th>\n",
       "      <th>sentence_count</th>\n",
       "      <th>unique_words</th>\n",
       "      <th>TTR</th>\n",
       "      <th>avg_height</th>\n",
       "      <th>flesch_grade_level</th>\n",
       "      <th>GRADE</th>\n",
       "      <th>FKGL</th>\n",
       "    </tr>\n",
       "  </thead>\n",
       "  <tbody>\n",
       "    <tr>\n",
       "      <th>0</th>\n",
       "      <td>1</td>\n",
       "      <td>In Class VI you learnt that food is essential ...</td>\n",
       "      <td>science</td>\n",
       "      <td>7.0</td>\n",
       "      <td>in class vi you learnt that food is essential ...</td>\n",
       "      <td>13.0</td>\n",
       "      <td>1.384615</td>\n",
       "      <td>76.501538</td>\n",
       "      <td>6.1</td>\n",
       "      <td>13</td>\n",
       "      <td>1</td>\n",
       "      <td>13</td>\n",
       "      <td>1.000000</td>\n",
       "      <td>6.0</td>\n",
       "      <td>5.818462</td>\n",
       "      <td>ESS</td>\n",
       "      <td>Easy</td>\n",
       "    </tr>\n",
       "    <tr>\n",
       "      <th>1</th>\n",
       "      <td>2</td>\n",
       "      <td>You also learnt that carbohydrates, proteins, ...</td>\n",
       "      <td>science</td>\n",
       "      <td>7.0</td>\n",
       "      <td>you also learnt that carbohydrates proteins fa...</td>\n",
       "      <td>14.0</td>\n",
       "      <td>1.785714</td>\n",
       "      <td>41.553571</td>\n",
       "      <td>12.5</td>\n",
       "      <td>14</td>\n",
       "      <td>1</td>\n",
       "      <td>14</td>\n",
       "      <td>1.000000</td>\n",
       "      <td>6.0</td>\n",
       "      <td>10.941429</td>\n",
       "      <td>14-15</td>\n",
       "      <td>Very Difficult</td>\n",
       "    </tr>\n",
       "    <tr>\n",
       "      <th>2</th>\n",
       "      <td>3</td>\n",
       "      <td>These components of food are called nutrients ...</td>\n",
       "      <td>science</td>\n",
       "      <td>7.0</td>\n",
       "      <td>these components of food are called nutrients ...</td>\n",
       "      <td>13.0</td>\n",
       "      <td>1.461538</td>\n",
       "      <td>69.993846</td>\n",
       "      <td>8.2</td>\n",
       "      <td>13</td>\n",
       "      <td>1</td>\n",
       "      <td>12</td>\n",
       "      <td>0.923077</td>\n",
       "      <td>6.0</td>\n",
       "      <td>6.726154</td>\n",
       "      <td>12-13</td>\n",
       "      <td>Medium</td>\n",
       "    </tr>\n",
       "    <tr>\n",
       "      <th>3</th>\n",
       "      <td>4</td>\n",
       "      <td>All living organisms require food</td>\n",
       "      <td>science</td>\n",
       "      <td>7.0</td>\n",
       "      <td>all living organisms require food</td>\n",
       "      <td>5.0</td>\n",
       "      <td>1.800000</td>\n",
       "      <td>49.480000</td>\n",
       "      <td>8.4</td>\n",
       "      <td>5</td>\n",
       "      <td>1</td>\n",
       "      <td>5</td>\n",
       "      <td>1.000000</td>\n",
       "      <td>4.0</td>\n",
       "      <td>7.600000</td>\n",
       "      <td>12-13</td>\n",
       "      <td>Medium</td>\n",
       "    </tr>\n",
       "    <tr>\n",
       "      <th>4</th>\n",
       "      <td>5</td>\n",
       "      <td>Plants can synthesise food for themselves but ...</td>\n",
       "      <td>science</td>\n",
       "      <td>7.0</td>\n",
       "      <td>plants can synthesise food for themselves but ...</td>\n",
       "      <td>12.0</td>\n",
       "      <td>1.666667</td>\n",
       "      <td>53.655000</td>\n",
       "      <td>10.9</td>\n",
       "      <td>12</td>\n",
       "      <td>1</td>\n",
       "      <td>11</td>\n",
       "      <td>0.916667</td>\n",
       "      <td>7.0</td>\n",
       "      <td>8.756667</td>\n",
       "      <td>14-15</td>\n",
       "      <td>Difficult</td>\n",
       "    </tr>\n",
       "  </tbody>\n",
       "</table>\n",
       "</div>"
      ],
      "text/plain": [
       "   index                                           sentence  subject  \\\n",
       "0      1  In Class VI you learnt that food is essential ...  science   \n",
       "1      2  You also learnt that carbohydrates, proteins, ...  science   \n",
       "2      3  These components of food are called nutrients ...  science   \n",
       "3      4                  All living organisms require food  science   \n",
       "4      5  Plants can synthesise food for themselves but ...  science   \n",
       "\n",
       "   class_name                                  preprocessed_text  \\\n",
       "0         7.0  in class vi you learnt that food is essential ...   \n",
       "1         7.0  you also learnt that carbohydrates proteins fa...   \n",
       "2         7.0  these components of food are called nutrients ...   \n",
       "3         7.0                  all living organisms require food   \n",
       "4         7.0  plants can synthesise food for themselves but ...   \n",
       "\n",
       "   avg_words_per_sentence  avg_syllables_per_word  flesch_reading_ease   ARI  \\\n",
       "0                    13.0                1.384615            76.501538   6.1   \n",
       "1                    14.0                1.785714            41.553571  12.5   \n",
       "2                    13.0                1.461538            69.993846   8.2   \n",
       "3                     5.0                1.800000            49.480000   8.4   \n",
       "4                    12.0                1.666667            53.655000  10.9   \n",
       "\n",
       "   word_counts  sentence_count  unique_words       TTR  avg_height  \\\n",
       "0           13               1            13  1.000000         6.0   \n",
       "1           14               1            14  1.000000         6.0   \n",
       "2           13               1            12  0.923077         6.0   \n",
       "3            5               1             5  1.000000         4.0   \n",
       "4           12               1            11  0.916667         7.0   \n",
       "\n",
       "   flesch_grade_level  GRADE            FKGL  \n",
       "0            5.818462    ESS            Easy  \n",
       "1           10.941429  14-15  Very Difficult  \n",
       "2            6.726154  12-13          Medium  \n",
       "3            7.600000  12-13          Medium  \n",
       "4            8.756667  14-15       Difficult  "
      ]
     },
     "execution_count": 59,
     "metadata": {},
     "output_type": "execute_result"
    }
   ],
   "source": [
    "df.head()"
   ]
  },
  {
   "cell_type": "code",
   "execution_count": null,
   "id": "333da75e",
   "metadata": {},
   "outputs": [],
   "source": []
  },
  {
   "cell_type": "markdown",
   "id": "2a92dc03",
   "metadata": {},
   "source": [
    "## RESULT"
   ]
  },
  {
   "cell_type": "code",
   "execution_count": 60,
   "id": "e096dfd8",
   "metadata": {},
   "outputs": [],
   "source": [
    "result = df[['class_name', 'ARI', 'flesch_grade_level', 'GRADE', 'FKGL']]"
   ]
  },
  {
   "cell_type": "code",
   "execution_count": 69,
   "id": "b4f5d74a",
   "metadata": {},
   "outputs": [
    {
     "data": {
      "text/html": [
       "<div>\n",
       "<style scoped>\n",
       "    .dataframe tbody tr th:only-of-type {\n",
       "        vertical-align: middle;\n",
       "    }\n",
       "\n",
       "    .dataframe tbody tr th {\n",
       "        vertical-align: top;\n",
       "    }\n",
       "\n",
       "    .dataframe thead th {\n",
       "        text-align: right;\n",
       "    }\n",
       "</style>\n",
       "<table border=\"1\" class=\"dataframe\">\n",
       "  <thead>\n",
       "    <tr style=\"text-align: right;\">\n",
       "      <th></th>\n",
       "      <th>class_name</th>\n",
       "      <th>ARI</th>\n",
       "      <th>flesch_grade_level</th>\n",
       "      <th>GRADE</th>\n",
       "      <th>FKGL</th>\n",
       "    </tr>\n",
       "  </thead>\n",
       "  <tbody>\n",
       "    <tr>\n",
       "      <th>17807</th>\n",
       "      <td>11.0</td>\n",
       "      <td>6.8</td>\n",
       "      <td>5.818462</td>\n",
       "      <td>12-13</td>\n",
       "      <td>Easy</td>\n",
       "    </tr>\n",
       "    <tr>\n",
       "      <th>7581</th>\n",
       "      <td>9.0</td>\n",
       "      <td>13.8</td>\n",
       "      <td>10.823478</td>\n",
       "      <td>16-18</td>\n",
       "      <td>Very Difficult</td>\n",
       "    </tr>\n",
       "    <tr>\n",
       "      <th>12083</th>\n",
       "      <td>10.0</td>\n",
       "      <td>7.6</td>\n",
       "      <td>6.936364</td>\n",
       "      <td>12-13</td>\n",
       "      <td>Medium</td>\n",
       "    </tr>\n",
       "    <tr>\n",
       "      <th>23386</th>\n",
       "      <td>12.0</td>\n",
       "      <td>12.8</td>\n",
       "      <td>10.723333</td>\n",
       "      <td>16-18</td>\n",
       "      <td>Very Difficult</td>\n",
       "    </tr>\n",
       "    <tr>\n",
       "      <th>7141</th>\n",
       "      <td>9.0</td>\n",
       "      <td>10.3</td>\n",
       "      <td>7.586667</td>\n",
       "      <td>14-15</td>\n",
       "      <td>Medium</td>\n",
       "    </tr>\n",
       "  </tbody>\n",
       "</table>\n",
       "</div>"
      ],
      "text/plain": [
       "       class_name   ARI  flesch_grade_level  GRADE            FKGL\n",
       "17807        11.0   6.8            5.818462  12-13            Easy\n",
       "7581          9.0  13.8           10.823478  16-18  Very Difficult\n",
       "12083        10.0   7.6            6.936364  12-13          Medium\n",
       "23386        12.0  12.8           10.723333  16-18  Very Difficult\n",
       "7141          9.0  10.3            7.586667  14-15          Medium"
      ]
     },
     "execution_count": 69,
     "metadata": {},
     "output_type": "execute_result"
    }
   ],
   "source": [
    "result.sample(5)"
   ]
  },
  {
   "cell_type": "code",
   "execution_count": null,
   "id": "52f2c2d1",
   "metadata": {},
   "outputs": [],
   "source": []
  },
  {
   "cell_type": "markdown",
   "id": "f48b5b90",
   "metadata": {},
   "source": [
    "## Input"
   ]
  },
  {
   "cell_type": "code",
   "execution_count": null,
   "id": "603a53a8",
   "metadata": {},
   "outputs": [],
   "source": []
  },
  {
   "cell_type": "code",
   "execution_count": 62,
   "id": "76e4b838",
   "metadata": {},
   "outputs": [],
   "source": [
    "import string\n",
    "\n",
    "def predict_ari(input_text):\n",
    "    preprocessed_text = preprocessing_text(input_text)\n",
    "    words_per_sentence = calculate_avg_words_per_sentence(preprocessed_text)\n",
    "    syllables_per_word = calculate_avg_syllables_per_word(preprocessed_text)\n",
    "    sentenc_count = sentence_count(preprocessed_text) \n",
    "    avg_height = average_parse_tree_height(preprocessed_text)\n",
    "    TTR        = type_token_ration(preprocessed_text)\n",
    "    \n",
    "\n",
    "    \n",
    "    input_data = {'preprocessed_text': [preprocessed_text],\n",
    "                  'avg_words_per_sentence': [words_per_sentence],\n",
    "                  'avg_syllables_per_word': [syllables_per_word],\n",
    "                  'sentence_count': [sentenc_count],\n",
    "                  'TTR': [TTR],\n",
    "                  'avg_height': [avg_height]}\n",
    "    input_df = pd.DataFrame(input_data)\n",
    "\n",
    "    \n",
    "    input_processed = processor.transform(input_df)\n",
    "    predicted_ari = gbm.predict(input_processed)\n",
    "    \n",
    "    return predicted_ari"
   ]
  },
  {
   "cell_type": "code",
   "execution_count": 63,
   "id": "ffe13296",
   "metadata": {},
   "outputs": [],
   "source": [
    "input_text = \"Spermatogenesis starts at the age of puberty due to significant increase in the secretion of gonadotropin releasing hormone\""
   ]
  },
  {
   "cell_type": "code",
   "execution_count": 65,
   "id": "c3c48594",
   "metadata": {},
   "outputs": [
    {
     "name": "stdout",
     "output_type": "stream",
     "text": [
      "[14.28540869]\n"
     ]
    }
   ],
   "source": [
    "print(predict_ari(input_text))"
   ]
  },
  {
   "cell_type": "code",
   "execution_count": 67,
   "id": "d5edbab1",
   "metadata": {},
   "outputs": [
    {
     "name": "stdout",
     "output_type": "stream",
     "text": [
      "Very Difficult\n"
     ]
    }
   ],
   "source": [
    "print(FKGL(14))"
   ]
  },
  {
   "cell_type": "code",
   "execution_count": 70,
   "id": "5b84b55f",
   "metadata": {},
   "outputs": [
    {
     "name": "stdout",
     "output_type": "stream",
     "text": [
      "16-18\n"
     ]
    }
   ],
   "source": [
    "print(grade(14))"
   ]
  },
  {
   "cell_type": "code",
   "execution_count": null,
   "id": "24d24218",
   "metadata": {},
   "outputs": [],
   "source": []
  }
 ],
 "metadata": {
  "kernelspec": {
   "display_name": "Python 3 (ipykernel)",
   "language": "python",
   "name": "python3"
  },
  "language_info": {
   "codemirror_mode": {
    "name": "ipython",
    "version": 3
   },
   "file_extension": ".py",
   "mimetype": "text/x-python",
   "name": "python",
   "nbconvert_exporter": "python",
   "pygments_lexer": "ipython3",
   "version": "3.11.5"
  }
 },
 "nbformat": 4,
 "nbformat_minor": 5
}
